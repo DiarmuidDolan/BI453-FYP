{
 "cells": [
  {
   "cell_type": "markdown",
   "metadata": {},
   "source": [
    "## Load initial files"
   ]
  },
  {
   "cell_type": "code",
   "execution_count": null,
   "metadata": {},
   "outputs": [],
   "source": [
    "import pandas as pd\n",
    "import numpy as np\n",
    "from pycaret.classification import *  # For later ML work\n",
    "\n",
    "# Define file paths \n",
    "clinical_fp = \"clinical.csv\"\n",
    "methylation_fp = \"methylation.csv\"\n",
    "mrna_fp = \"mrna.csv\"\n",
    "\n",
    "# Load the CSV files into pandas DataFrames \n",
    "df_clinical = pd.read_csv(clinical_fp, sep='\\t')\n",
    "df_methylation = pd.read_csv(methylation_fp)\n",
    "df_mrna = pd.read_csv(mrna_fp)\n",
    "\n",
    "# Display shapes of the loaded DataFrames to verify they loaded correctly.\n",
    "print(\"Loaded Clinical Data shape:\", df_clinical.shape)\n",
    "print(\"Loaded Methylation Data shape:\", df_methylation.shape)\n",
    "print(\"Loaded mRNA Data shape:\", df_mrna.shape)"
   ]
  },
  {
   "cell_type": "markdown",
   "metadata": {},
   "source": [
    "## make sure rfs is present in each"
   ]
  },
  {
   "cell_type": "code",
   "execution_count": null,
   "metadata": {},
   "outputs": [],
   "source": [
    "dataframes = {\n",
    "    \"Clinical\": df_clinical,\n",
    "    \"Methylation\": df_methylation,\n",
    "    \"mRNA\": df_mrna\n",
    "}\n",
    "\n",
    "for name, df in dataframes.items():\n",
    "    if \"RFS_STATUS\" in df.columns:\n",
    "        print(f\"{name} DataFrame contains 'RFS_STATUS'.\")\n",
    "    else:\n",
    "        print(f\"{name} DataFrame DOES NOT contain 'RFS_STATUS'.\")"
   ]
  },
  {
   "cell_type": "code",
   "execution_count": null,
   "metadata": {},
   "outputs": [],
   "source": [
    "import pandas as pd\n",
    "\n",
    "# Load the patient_ids_RFS_STATUS file (adjust separator if necessary)\n",
    "df_rfs = pd.read_csv(\"patient_ids_RFS_STATUS.csv\")\n",
    "\n",
    "print(\"Patient IDs RFS_STATUS:\")\n",
    "print(df_rfs.head())\n",
    "\n",
    "# Merge RFS_STATUS into the Methylation DataFrame if missing\n",
    "if \"RFS_STATUS\" not in df_methylation.columns:\n",
    "    df_methylation = df_methylation.merge(df_rfs, on=\"PATIENT_ID\", how=\"left\")\n",
    "    print(\"Merged RFS_STATUS into Methylation DataFrame. New shape:\", df_methylation.shape)\n",
    "else:\n",
    "    print(\"Methylation DataFrame already contains RFS_STATUS.\")\n",
    "\n",
    "# Merge RFS_STATUS into the mRNA DataFrame if missing\n",
    "if \"RFS_STATUS\" not in df_mrna.columns:\n",
    "    df_mrna = df_mrna.merge(df_rfs, on=\"PATIENT_ID\", how=\"left\")\n",
    "    print(\"Merged RFS_STATUS into mRNA DataFrame. New shape:\", df_mrna.shape)\n",
    "else:\n",
    "    print(\"mRNA DataFrame already contains RFS_STATUS.\")"
   ]
  },
  {
   "cell_type": "markdown",
   "metadata": {},
   "source": [
    "## ML Pipeline (individual files)"
   ]
  },
  {
   "cell_type": "code",
   "execution_count": null,
   "metadata": {},
   "outputs": [],
   "source": [
    "from pycaret.classification import *\n",
    "import pandas as pd\n",
    "import matplotlib.pyplot as plt\n",
    "\n",
    "def run_ml_pipeline(df, target, ignore_features, model_save_name):\n",
    "    \"\"\"\n",
    "    Runs a PyCaret classification pipeline on the provided DataFrame.\n",
    "    It removes rows with missing target values, compares multiple models\n",
    "    and generates evaluation plots that are output in the notebook.\n",
    "    \n",
    "    Parameters:\n",
    "      - df: pandas DataFrame containing the data.\n",
    "      - target: Name of the target column (e.g., \"RFS_STATUS\").\n",
    "      - ignore_features: List of columns to ignore during training.\n",
    "      - model_save_name: Base name for saving the best model.\n",
    "    \"\"\"\n",
    "    # Drop rows with missing target values\n",
    "    df = df.dropna(subset=[target])\n",
    "    print(f\"After dropping missing '{target}' values, dataset shape: {df.shape}\")\n",
    "    \n",
    "    # Initialize PyCaret's setup. preprocess=True handles encoding, scaling, etc.\n",
    "    clf = setup(\n",
    "        data=df,\n",
    "        target=target,\n",
    "        session_id=42,           # For reproducibility\n",
    "        fold=5,                 \n",
    "        ignore_features=ignore_features,\n",
    "        preprocess=True,\n",
    "        html=False,\n",
    "        verbose=True\n",
    "    )\n",
    "    \n",
    "    # Compare models and select the best based on default metrics.\n",
    "    best_model = compare_models()\n",
    "    \n",
    "    # Output evaluation plots using PyCaret (plots will display in the notebook).\n",
    "    plot_types = ['auc', 'confusion_matrix', 'feature', 'class_report']\n",
    "    \n",
    "    for plot_type in plot_types:\n",
    "        try:\n",
    "            plot_model(best_model, plot=plot_type)\n",
    "        except Exception as e:\n",
    "            print(f\"Could not generate plot '{plot_type}': {e}\")\n",
    "    \n",
    "    # Save the best model.\n",
    "    save_model(best_model, model_save_name)\n",
    "    print(f\"Best model saved as {model_save_name}.pkl\")\n",
    "    \n",
    "# Run the ML pipeline on individual datasets.\n",
    "\n",
    "# Clinical Dataset\n",
    "run_ml_pipeline(df_clinical, target=\"RFS_STATUS\", ignore_features=[\"PATIENT_ID\"], model_save_name=\"best_model_clinical\")\n",
    "\n",
    "# Methylation Dataset\n",
    "run_ml_pipeline(df_methylation, target=\"RFS_STATUS\", ignore_features=[\"PATIENT_ID\"], model_save_name=\"best_model_methylation\")\n",
    "\n",
    "# mRNA Dataset\n",
    "run_ml_pipeline(df_mrna, target=\"RFS_STATUS\", ignore_features=[\"PATIENT_ID\"], model_save_name=\"best_model_mrna\")"
   ]
  },
  {
   "cell_type": "markdown",
   "metadata": {},
   "source": [
    "## combine files"
   ]
  },
  {
   "cell_type": "code",
   "execution_count": null,
   "metadata": {},
   "outputs": [],
   "source": [
    "import pandas as pd\n",
    "\n",
    "def merge_and_drop_target(df1, df2, key=\"PATIENT_ID\", target=\"RFS_STATUS\"):\n",
    "    \"\"\"\n",
    "    Merges two DataFrames on a given key while ensuring that only the first DataFrame's target column is kept.\n",
    "    If df2 contains the target column, it will be dropped.\n",
    "    \"\"\"\n",
    "    # Drop target column from the second DataFrame if present.\n",
    "    if target in df2.columns:\n",
    "        df2 = df2.drop(columns=[target])\n",
    "    merged = pd.merge(df1, df2, on=key, how='inner')\n",
    "    return merged\n",
    "\n",
    "# Ensure you are working with copies of your original DataFrames\n",
    "df_clin = df_clinical.copy()\n",
    "df_mrna_cp = df_mrna.copy()\n",
    "df_meth_cp = df_methylation.copy()\n",
    "\n",
    "# Merge combinations:\n",
    "# 1. Clinical + mRNA (keeps RFS_STATUS from Clinical)\n",
    "df_clin_mrna = merge_and_drop_target(df_clin, df_mrna_cp, key=\"PATIENT_ID\", target=\"RFS_STATUS\")\n",
    "print(\"Clinical + mRNA merged shape:\", df_clin_mrna.shape)\n",
    "\n",
    "# 2. Clinical + Methylation (keeps RFS_STATUS from Clinical)\n",
    "df_clin_meth = merge_and_drop_target(df_clin, df_meth_cp, key=\"PATIENT_ID\", target=\"RFS_STATUS\")\n",
    "print(\"Clinical + Methylation merged shape:\", df_clin_meth.shape)\n",
    "\n",
    "# 3. mRNA + Methylation (here, arbitrarily keep RFS_STATUS from mRNA)\n",
    "df_mrna_meth = merge_and_drop_target(df_mrna_cp, df_meth_cp, key=\"PATIENT_ID\", target=\"RFS_STATUS\")\n",
    "print(\"mRNA + Methylation merged shape:\", df_mrna_meth.shape)\n",
    "\n",
    "# 4. All three combined: Merge Clinical and mRNA first, then merge with Methylation.\n",
    "temp_merge = merge_and_drop_target(df_clin, df_mrna_cp, key=\"PATIENT_ID\", target=\"RFS_STATUS\")\n",
    "df_all_combined = merge_and_drop_target(temp_merge, df_meth_cp, key=\"PATIENT_ID\", target=\"RFS_STATUS\")\n",
    "print(\"Clinical + mRNA + Methylation merged shape:\", df_all_combined.shape)\n"
   ]
  },
  {
   "cell_type": "code",
   "execution_count": null,
   "metadata": {},
   "outputs": [],
   "source": [
    "\n",
    "\n",
    "# For individual DataFrames:\n",
    "print(\"Unique patient IDs in Clinical:\", df_clin[\"PATIENT_ID\"].nunique())\n",
    "print(\"Unique patient IDs in Methylation:\", df_meth_cp[\"PATIENT_ID\"].nunique())\n",
    "print(\"Unique patient IDs in mRNA:\", df_mrna_cp[\"PATIENT_ID\"].nunique())\n",
    "\n",
    "# For merged DataFrames:\n",
    "print(\"Unique patient IDs in Clinical + mRNA merge:\", df_clin_mrna[\"PATIENT_ID\"].nunique())\n",
    "print(\"Unique patient IDs in Clinical + Methylation merge:\", df_clin_meth[\"PATIENT_ID\"].nunique())\n",
    "print(\"Unique patient IDs in mRNA + Methylation merge:\", df_mrna_meth[\"PATIENT_ID\"].nunique())\n",
    "print(\"Unique patient IDs in Clinical + mRNA + Methylation merge:\", df_all_combined[\"PATIENT_ID\"].nunique())\n",
    "\n",
    "\n",
    "# Now you can pass any of these merged DataFrames to PyCaret.\n",
    "# PyCaret's setup() (with preprocess=True) will handle mixed categorical/numerical features automatically."
   ]
  },
  {
   "cell_type": "markdown",
   "metadata": {},
   "source": [
    "## ML Combined\n"
   ]
  },
  {
   "cell_type": "code",
   "execution_count": null,
   "metadata": {},
   "outputs": [],
   "source": [
    "from pycaret.classification import *\n",
    "import matplotlib.pyplot as plt\n",
    "\n",
    "def run_ml_pipeline_merged(df, target, ignore_features, model_save_name):\n",
    "    \"\"\"\n",
    "    Runs PyCaret ML pipeline on a merged DataFrame.\n",
    "    Assumes that `df` already has only one RFS_STATUS column.\n",
    "    Outputs evaluation plots in the notebook.\n",
    "    \n",
    "    Parameters:\n",
    "      - df: pandas DataFrame containing the data.\n",
    "      - target: Name of the target column (e.g., \"RFS_STATUS\").\n",
    "      - ignore_features: List of columns to ignore during training.\n",
    "      - model_save_name: Base name for saving the best model.\n",
    "    \"\"\"\n",
    "    # Drop rows with missing target values.\n",
    "    df = df.dropna(subset=[target])\n",
    "    print(f\"After dropping missing '{target}' values, dataset shape for {model_save_name}: {df.shape}\")\n",
    "    \n",
    "    # Initialize PyCaret's setup.\n",
    "    clf = setup(\n",
    "        data=df,\n",
    "        target=target,\n",
    "        session_id=42,\n",
    "        fold=10,                 \n",
    "        ignore_features=ignore_features,\n",
    "        preprocess=True,\n",
    "        html=False,\n",
    "        verbose=True\n",
    "    )\n",
    "    \n",
    "    # Compare models and select the best.\n",
    "    best_model = compare_models()\n",
    "    \n",
    "    # Output evaluation plots in the notebook.\n",
    "    plot_types = ['auc', 'confusion_matrix', 'feature', 'class_report']\n",
    "    \n",
    "    for plot_type in plot_types:\n",
    "        try:\n",
    "            plot_model(best_model, plot=plot_type)\n",
    "        except Exception as e:\n",
    "            print(f\"Could not generate plot '{plot_type}': {e}\")\n",
    "    \n",
    "    # Optionally, review the model interactively.\n",
    "    evaluate_model(best_model)\n",
    "    \n",
    "    # Save the best model.\n",
    "    save_model(best_model, model_save_name)\n",
    "    print(f\"Best merged model saved as {model_save_name}.pkl\")\n",
    "\n",
    "\n",
    "# For each merged dataset, run the ML pipeline (using \"RFS_STATUS\" as target):\n",
    "run_ml_pipeline_merged(df_all_combined, target=\"RFS_STATUS\", ignore_features=[\"PATIENT_ID\"], model_save_name=\"best_model_comvbined\")\n",
    "### run same line with different dfs to get other results, run one at a time to save resources"
   ]
  },
  {
   "cell_type": "code",
   "execution_count": null,
   "metadata": {},
   "outputs": [],
   "source": [
    "run_ml_pipeline_merged(df_clin_mrna, target=\"RFS_STATUS\", ignore_features=[\"PATIENT_ID\"], model_save_name=\"best_model_clinical_mrna\")\n"
   ]
  },
  {
   "cell_type": "code",
   "execution_count": null,
   "metadata": {},
   "outputs": [],
   "source": [
    "run_ml_pipeline_merged(df_clin_meth, target=\"RFS_STATUS\", ignore_features=[\"PATIENT_ID\"], model_save_name=\"best_model_clinical_methylation\")"
   ]
  }
 ],
 "metadata": {
  "kernelspec": {
   "display_name": "biosim_new",
   "language": "python",
   "name": "python3"
  },
  "language_info": {
   "codemirror_mode": {
    "name": "ipython",
    "version": 3
   },
   "file_extension": ".py",
   "mimetype": "text/x-python",
   "name": "python",
   "nbconvert_exporter": "python",
   "pygments_lexer": "ipython3",
   "version": "3.11.7"
  }
 },
 "nbformat": 4,
 "nbformat_minor": 2
}
